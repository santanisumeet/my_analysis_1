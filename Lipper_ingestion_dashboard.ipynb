{
 "cells": [
  {
   "cell_type": "code",
   "execution_count": 1,
   "id": "838a956d",
   "metadata": {},
   "outputs": [
    {
     "data": {
      "application/vnd.jupyter.widget-view+json": {
       "model_id": "33cc3de0ba0c4f29bd2e808d10cd3c15",
       "version_major": 2,
       "version_minor": 0
      },
      "text/plain": [
       "Dropdown(description='Pick:', options=('One', 'Two', 'Three'), value='One')"
      ]
     },
     "execution_count": 1,
     "metadata": {},
     "output_type": "execute_result"
    }
   ],
   "source": [
    "import ipywidgets as widgets\n",
    "widgets.Dropdown(options=['One', 'Two', 'Three'], description='Pick:')\n"
   ]
  },
  {
   "cell_type": "code",
   "execution_count": 10,
   "id": "20e0bfc8",
   "metadata": {},
   "outputs": [],
   "source": [
    "import plotly.io as pio\n"
   ]
  },
  {
   "cell_type": "code",
   "execution_count": 3,
   "id": "a7d8d8ed",
   "metadata": {},
   "outputs": [],
   "source": [
    "import plotly.io as pio\n",
    "pio.renderers.default = 'notebook'\n"
   ]
  },
  {
   "cell_type": "code",
   "execution_count": 8,
   "id": "18b5697c",
   "metadata": {},
   "outputs": [
    {
     "name": "stdout",
     "output_type": "stream",
     "text": [
      "Combined 22 files into one DataFrame with shape: (7548801, 16)\n"
     ]
    }
   ],
   "source": [
    "import pandas as pd\n",
    "import os\n",
    "from pathlib import Path\n",
    "\n",
    "# Define the root data directory\n",
    "root_dir = Path('lipper_data')\n",
    "\n",
    "# Find all resource_metadata.csv files recursively\n",
    "csv_files = list(root_dir.rglob('resource_metadata.csv'))\n",
    "\n",
    "# Read and concatenate all CSV files into one DataFrame\n",
    "combined_df = pd.concat([pd.read_csv(f) for f in csv_files], ignore_index=True)\n",
    "\n",
    "# Optionally, print the shape or head to confirm\n",
    "print(f\"Combined {len(csv_files)} files into one DataFrame with shape: {combined_df.shape}\")\n"
   ]
  },
  {
   "cell_type": "code",
   "execution_count": 14,
   "id": "a7ff60ef",
   "metadata": {},
   "outputs": [],
   "source": []
  },
  {
   "cell_type": "code",
   "execution_count": 18,
   "id": "2b7a8333",
   "metadata": {},
   "outputs": [],
   "source": [
    "combined_df['ingestion_dt'] = pd.to_datetime(combined_df['ingestion_dt'], errors='coerce')\n"
   ]
  },
  {
   "cell_type": "code",
   "execution_count": 19,
   "id": "1913bef2",
   "metadata": {},
   "outputs": [
    {
     "name": "stdout",
     "output_type": "stream",
     "text": [
      "9900 rows failed to parse\n"
     ]
    }
   ],
   "source": [
    "print(combined_df['ingestion_dt'].isna().sum(), \"rows failed to parse\")\n"
   ]
  },
  {
   "cell_type": "code",
   "execution_count": 22,
   "id": "b2b25577",
   "metadata": {},
   "outputs": [],
   "source": [
    "# Filter and display rows where ingestion_dt is NaT (Not a Time)\n",
    "na_rows = combined_df[combined_df['ingestion_dt'].isna()]\n"
   ]
  },
  {
   "cell_type": "code",
   "execution_count": 26,
   "id": "968c5ec5",
   "metadata": {},
   "outputs": [
    {
     "name": "stdout",
     "output_type": "stream",
     "text": [
      "                      ingestion_dt ingestion_day_of_week ingestion_time  \\\n",
      "0 2022-06-25 12:46:53.567000+00:00              Saturday       12:46:53   \n",
      "1 2022-06-25 12:46:53.567000+00:00              Saturday       12:46:53   \n",
      "2 2022-06-25 12:46:53.567000+00:00              Saturday       12:46:53   \n",
      "3 2022-06-25 12:46:53.567000+00:00              Saturday       12:46:53   \n",
      "4 2022-06-25 12:46:53.567000+00:00              Saturday       12:46:53   \n",
      "\n",
      "   ingestion_day_of_month  \n",
      "0                    25.0  \n",
      "1                    25.0  \n",
      "2                    25.0  \n",
      "3                    25.0  \n",
      "4                    25.0  \n"
     ]
    }
   ],
   "source": [
    "import pandas as pd\n",
    "\n",
    "# Ensure ingestion_dt is parsed as datetime\n",
    "combined_df['ingestion_dt'] = pd.to_datetime(combined_df['ingestion_dt'])\n",
    "\n",
    "# Extract new columns\n",
    "combined_df['ingestion_day_of_week'] = combined_df['ingestion_dt'].dt.day_name()\n",
    "combined_df['ingestion_time'] = combined_df['ingestion_dt'].dt.strftime('%H:%M:%S')\n",
    "combined_df['ingestion_day_of_month'] = combined_df['ingestion_dt'].dt.day\n",
    "\n",
    "# Optional: check result\n"
   ]
  },
  {
   "cell_type": "code",
   "execution_count": 28,
   "id": "2e426fde",
   "metadata": {},
   "outputs": [
    {
     "data": {
      "text/plain": [
       "Index(['schedule_dt', 'supplier_implied_dt', 'ingestion_dt', 'dataset_id',\n",
       "       'workflow_id', 'frame_id', 'delivery_id', 'latest_health_status',\n",
       "       'delivery_type', 'resource_id', 'status', 'name', 'url', 'md5_hash',\n",
       "       'rows', 'size', 'ingestion_day_of_week', 'ingestion_time',\n",
       "       'ingestion_day_of_month'],\n",
       "      dtype='object')"
      ]
     },
     "execution_count": 28,
     "metadata": {},
     "output_type": "execute_result"
    }
   ],
   "source": [
    "combined_df.columns"
   ]
  },
  {
   "cell_type": "code",
   "execution_count": 30,
   "id": "328d2cc9",
   "metadata": {},
   "outputs": [
    {
     "data": {
      "text/plain": [
       "array(['raw', 'delta', nan], dtype=object)"
      ]
     },
     "execution_count": 30,
     "metadata": {},
     "output_type": "execute_result"
    }
   ],
   "source": [
    "combined_df['delivery_type'].unique()"
   ]
  },
  {
   "cell_type": "code",
   "execution_count": 31,
   "id": "b0234fb9",
   "metadata": {},
   "outputs": [],
   "source": [
    "combined_df = combined_df[combined_df['delivery_type'] == 'delta']"
   ]
  },
  {
   "cell_type": "code",
   "execution_count": 38,
   "id": "2b8c8523",
   "metadata": {},
   "outputs": [
    {
     "name": "stderr",
     "output_type": "stream",
     "text": [
      "/var/folders/zg/psv85v9x1xl6ffh1sc488h7m0000gp/T/ipykernel_35410/1254512608.py:14: UserWarning:\n",
      "\n",
      "Could not infer format, so each element will be parsed individually, falling back to `dateutil`. To ensure parsing is consistent and as-expected, please specify a format.\n",
      "\n"
     ]
    },
    {
     "data": {
      "application/vnd.jupyter.widget-view+json": {
       "model_id": "9f44844ca1f34a4784407d4eb10f0021",
       "version_major": 2,
       "version_minor": 0
      },
      "text/plain": [
       "Dropdown(description='Workflow ID:', options=('All', 'lipper_global_datafeed_globalexusa_lgdf_cxo00221', 'lipp…"
      ]
     },
     "metadata": {},
     "output_type": "display_data"
    },
    {
     "data": {
      "application/vnd.jupyter.widget-view+json": {
       "model_id": "b3d58d36f68b4b63b1b6aa74cb3659ec",
       "version_major": 2,
       "version_minor": 0
      },
      "text/plain": [
       "Output()"
      ]
     },
     "metadata": {},
     "output_type": "display_data"
    }
   ],
   "source": [
    "import pandas as pd\n",
    "import plotly.express as px\n",
    "import ipywidgets as widgets\n",
    "from IPython.display import display, clear_output\n",
    "import plotly.io as pio\n",
    "\n",
    "# Use notebook-compatible renderer\n",
    "pio.renderers.default = 'notebook_connected'\n",
    "\n",
    "# Copy your data\n",
    "df = combined_df.copy()\n",
    "\n",
    "# Parse time & extract hour in UTC\n",
    "df['ingestion_time'] = pd.to_datetime(df['ingestion_time'], errors='coerce', utc=True)\n",
    "df['ingestion_hour'] = df['ingestion_time'].dt.hour\n",
    "\n",
    "# Set weekday order\n",
    "day_order = ['Monday', 'Tuesday', 'Wednesday', 'Thursday', 'Friday', 'Saturday', 'Sunday']\n",
    "df['ingestion_day_of_week'] = pd.Categorical(df['ingestion_day_of_week'], categories=day_order, ordered=True)\n",
    "\n",
    "# Workflow filter only\n",
    "workflow_dropdown = widgets.Dropdown(\n",
    "    options=['All'] + sorted(df['workflow_id'].dropna().unique().tolist()),\n",
    "    value='All',\n",
    "    description='Workflow ID:',\n",
    "    style={'description_width': 'initial'}\n",
    ")\n",
    "\n",
    "output = widgets.Output()\n",
    "\n",
    "def update_dashboard(change=None):\n",
    "    output.clear_output()\n",
    "\n",
    "    # Filter by workflow\n",
    "    filtered = df.copy()\n",
    "    if workflow_dropdown.value != 'All':\n",
    "        filtered = filtered[filtered['workflow_id'] == workflow_dropdown.value]\n",
    "\n",
    "    with output:\n",
    "        if filtered.empty:\n",
    "            print(\"No data for selected workflow.\")\n",
    "            return\n",
    "\n",
    "        # --- Bar Chart: Ingestions by UTC Hour ---\n",
    "        hourly_counts = (\n",
    "            filtered['ingestion_hour']\n",
    "            .value_counts()\n",
    "            .sort_index()\n",
    "            .reset_index()\n",
    "        )\n",
    "        hourly_counts.columns = ['ingestion_hour', 'count']\n",
    "\n",
    "        fig_hour = px.bar(\n",
    "            hourly_counts,\n",
    "            x='ingestion_hour',\n",
    "            y='count',\n",
    "            labels={'ingestion_hour': 'Hour of Day (UTC)', 'count': 'Ingestions'},\n",
    "            title='Ingestions by Hour of Day (UTC)'\n",
    "        )\n",
    "        fig_hour.update_xaxes(dtick=1)\n",
    "        fig_hour.show()\n",
    "\n",
    "        # --- Bar Chart: Ingestions by Day of Week ---\n",
    "        dow_counts = (\n",
    "            filtered['ingestion_day_of_week']\n",
    "            .value_counts()\n",
    "            .reindex(day_order)\n",
    "            .dropna()\n",
    "            .reset_index()\n",
    "        )\n",
    "        dow_counts.columns = ['ingestion_day_of_week', 'count']\n",
    "\n",
    "        fig_dow = px.bar(\n",
    "            dow_counts,\n",
    "            x='ingestion_day_of_week',\n",
    "            y='count',\n",
    "            labels={'ingestion_day_of_week': 'Day of Week', 'count': 'Ingestions'},\n",
    "            title='Ingestions by Day of Week'\n",
    "        )\n",
    "        fig_dow.show()\n",
    "\n",
    "        # --- Heatmap: Day of Week × Hour (UTC) ---\n",
    "        heatmap_df = (\n",
    "            filtered.groupby(['ingestion_day_of_week', 'ingestion_hour'])\n",
    "            .size()\n",
    "            .reset_index(name='count')\n",
    "        )\n",
    "\n",
    "        if not heatmap_df.empty:\n",
    "            fig_heat = px.density_heatmap(\n",
    "                heatmap_df,\n",
    "                x='ingestion_hour',\n",
    "                y='ingestion_day_of_week',\n",
    "                z='count',\n",
    "                color_continuous_scale='Blues',\n",
    "                labels={'ingestion_hour': 'Hour (UTC)', 'count': 'Ingestions'},\n",
    "                title='Ingestion Heatmap: Day of Week vs Hour (UTC)'\n",
    "            )\n",
    "            fig_heat.update_xaxes(dtick=1)\n",
    "            fig_heat.show()\n",
    "        else:\n",
    "            print(\"No heatmap data to display.\")\n",
    "\n",
    "# Trigger update on dropdown\n",
    "workflow_dropdown.observe(update_dashboard, names='value')\n",
    "\n",
    "# Initial dashboard render\n",
    "update_dashboard()\n",
    "\n",
    "# Display controls and output\n",
    "display(workflow_dropdown)\n",
    "display(output)\n"
   ]
  },
  {
   "cell_type": "code",
   "execution_count": null,
   "id": "4cae937d",
   "metadata": {},
   "outputs": [],
   "source": []
  }
 ],
 "metadata": {
  "kernelspec": {
   "display_name": "Python 3 (ipykernel)",
   "language": "python",
   "name": "python3"
  },
  "language_info": {
   "codemirror_mode": {
    "name": "ipython",
    "version": 3
   },
   "file_extension": ".py",
   "mimetype": "text/x-python",
   "name": "python",
   "nbconvert_exporter": "python",
   "pygments_lexer": "ipython3",
   "version": "3.9.16"
  }
 },
 "nbformat": 4,
 "nbformat_minor": 5
}
